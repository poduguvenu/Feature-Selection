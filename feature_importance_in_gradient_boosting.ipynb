{
  "nbformat": 4,
  "nbformat_minor": 0,
  "metadata": {
    "kernelspec": {
      "display_name": "Python 3",
      "language": "python",
      "name": "python3"
    },
    "language_info": {
      "codemirror_mode": {
        "name": "ipython",
        "version": 3
      },
      "file_extension": ".py",
      "mimetype": "text/x-python",
      "name": "python",
      "nbconvert_exporter": "python",
      "pygments_lexer": "ipython3",
      "version": "3.7.6"
    },
    "colab": {
      "name": "feature-importance-in-gradient-boosting.ipynb",
      "provenance": []
    }
  },
  "cells": [
    {
      "cell_type": "markdown",
      "metadata": {
        "id": "-KLetdldqrYr"
      },
      "source": [
        "# Feature Importance and Feature Selection With XGBoost in Python\n",
        "---\n",
        "A benefit of using ensembles of decision tree methods like gradient boosting is that they can automatically provide estimates of feature importance from a trained predictive model.\n",
        "\n",
        "In this notebook we will discover how we can estimate the importance of features for a predictive modeling problem using the XGBoost library in Python."
      ]
    },
    {
      "cell_type": "markdown",
      "metadata": {
        "id": "IUrGaN2X7i-y"
      },
      "source": [
        "> ![image.png](data:image/png;base64,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)"
      ]
    },
    {
      "cell_type": "markdown",
      "metadata": {
        "id": "K20gnW7GrVB9"
      },
      "source": [
        "> ## Import Required Libraries"
      ]
    },
    {
      "cell_type": "code",
      "metadata": {
        "id": "WpUA-KJorSSy"
      },
      "source": [
        "import numpy as np\n",
        "import pandas as pd\n",
        "from xgboost import XGBClassifier\n",
        "from matplotlib import pyplot\n",
        "from sklearn.model_selection import train_test_split\n",
        "from xgboost import plot_importance\n",
        "from sklearn.metrics import accuracy_score, confusion_matrix\n",
        "from sklearn.feature_selection import SelectFromModel\n",
        "import seaborn as sns"
      ],
      "execution_count": 6,
      "outputs": []
    },
    {
      "cell_type": "markdown",
      "metadata": {
        "id": "WXi9mLUcsPat"
      },
      "source": [
        "> ## Load the Dataset"
      ]
    },
    {
      "cell_type": "code",
      "metadata": {
        "colab": {
          "base_uri": "https://localhost:8080/",
          "height": 191
        },
        "id": "8NtVwgzKsKc9",
        "outputId": "46ad86a6-8479-4159-8442-d248183a4052"
      },
      "source": [
        "dataset = pd.read_csv('./diabetes.csv')\n",
        "dataset.head()"
      ],
      "execution_count": 7,
      "outputs": [
        {
          "output_type": "execute_result",
          "data": {
            "text/html": [
              "<div>\n",
              "<style scoped>\n",
              "    .dataframe tbody tr th:only-of-type {\n",
              "        vertical-align: middle;\n",
              "    }\n",
              "\n",
              "    .dataframe tbody tr th {\n",
              "        vertical-align: top;\n",
              "    }\n",
              "\n",
              "    .dataframe thead th {\n",
              "        text-align: right;\n",
              "    }\n",
              "</style>\n",
              "<table border=\"1\" class=\"dataframe\">\n",
              "  <thead>\n",
              "    <tr style=\"text-align: right;\">\n",
              "      <th></th>\n",
              "      <th>Pregnancies</th>\n",
              "      <th>Glucose</th>\n",
              "      <th>BloodPressure</th>\n",
              "      <th>SkinThickness</th>\n",
              "      <th>Insulin</th>\n",
              "      <th>BMI</th>\n",
              "      <th>DiabetesPedigreeFunction</th>\n",
              "      <th>Age</th>\n",
              "      <th>Outcome</th>\n",
              "    </tr>\n",
              "  </thead>\n",
              "  <tbody>\n",
              "    <tr>\n",
              "      <th>0</th>\n",
              "      <td>6</td>\n",
              "      <td>148</td>\n",
              "      <td>72</td>\n",
              "      <td>35</td>\n",
              "      <td>0</td>\n",
              "      <td>33.6</td>\n",
              "      <td>0.627</td>\n",
              "      <td>50</td>\n",
              "      <td>1</td>\n",
              "    </tr>\n",
              "    <tr>\n",
              "      <th>1</th>\n",
              "      <td>1</td>\n",
              "      <td>85</td>\n",
              "      <td>66</td>\n",
              "      <td>29</td>\n",
              "      <td>0</td>\n",
              "      <td>26.6</td>\n",
              "      <td>0.351</td>\n",
              "      <td>31</td>\n",
              "      <td>0</td>\n",
              "    </tr>\n",
              "    <tr>\n",
              "      <th>2</th>\n",
              "      <td>8</td>\n",
              "      <td>183</td>\n",
              "      <td>64</td>\n",
              "      <td>0</td>\n",
              "      <td>0</td>\n",
              "      <td>23.3</td>\n",
              "      <td>0.672</td>\n",
              "      <td>32</td>\n",
              "      <td>1</td>\n",
              "    </tr>\n",
              "    <tr>\n",
              "      <th>3</th>\n",
              "      <td>1</td>\n",
              "      <td>89</td>\n",
              "      <td>66</td>\n",
              "      <td>23</td>\n",
              "      <td>94</td>\n",
              "      <td>28.1</td>\n",
              "      <td>0.167</td>\n",
              "      <td>21</td>\n",
              "      <td>0</td>\n",
              "    </tr>\n",
              "    <tr>\n",
              "      <th>4</th>\n",
              "      <td>0</td>\n",
              "      <td>137</td>\n",
              "      <td>40</td>\n",
              "      <td>35</td>\n",
              "      <td>168</td>\n",
              "      <td>43.1</td>\n",
              "      <td>2.288</td>\n",
              "      <td>33</td>\n",
              "      <td>1</td>\n",
              "    </tr>\n",
              "  </tbody>\n",
              "</table>\n",
              "</div>"
            ],
            "text/plain": [
              "   Pregnancies  Glucose  BloodPressure  ...  DiabetesPedigreeFunction  Age  Outcome\n",
              "0            6      148             72  ...                     0.627   50        1\n",
              "1            1       85             66  ...                     0.351   31        0\n",
              "2            8      183             64  ...                     0.672   32        1\n",
              "3            1       89             66  ...                     0.167   21        0\n",
              "4            0      137             40  ...                     2.288   33        1\n",
              "\n",
              "[5 rows x 9 columns]"
            ]
          },
          "metadata": {
            "tags": []
          },
          "execution_count": 7
        }
      ]
    },
    {
      "cell_type": "code",
      "metadata": {
        "colab": {
          "base_uri": "https://localhost:8080/"
        },
        "id": "cRL0ma91tLRB",
        "outputId": "fef6f6fe-c8da-47b6-fb16-2aaa1e0a630f"
      },
      "source": [
        "dataset.isnull().sum()"
      ],
      "execution_count": 8,
      "outputs": [
        {
          "output_type": "execute_result",
          "data": {
            "text/plain": [
              "Pregnancies                 0\n",
              "Glucose                     0\n",
              "BloodPressure               0\n",
              "SkinThickness               0\n",
              "Insulin                     0\n",
              "BMI                         0\n",
              "DiabetesPedigreeFunction    0\n",
              "Age                         0\n",
              "Outcome                     0\n",
              "dtype: int64"
            ]
          },
          "metadata": {
            "tags": []
          },
          "execution_count": 8
        }
      ]
    },
    {
      "cell_type": "markdown",
      "metadata": {
        "id": "oCBAPZp3tA1_"
      },
      "source": [
        "> ## Extracting Dependent and Independent Features"
      ]
    },
    {
      "cell_type": "code",
      "metadata": {
        "id": "jlrwrxzds90N"
      },
      "source": [
        "X = dataset.drop('Outcome', axis=1)\n",
        "y = dataset['Outcome']"
      ],
      "execution_count": 9,
      "outputs": []
    },
    {
      "cell_type": "code",
      "metadata": {
        "colab": {
          "base_uri": "https://localhost:8080/"
        },
        "id": "NIQxrPHY0K5T",
        "outputId": "43873378-7706-433c-c525-0f33e4241a55"
      },
      "source": [
        "X.shape, y.shape"
      ],
      "execution_count": 26,
      "outputs": [
        {
          "output_type": "execute_result",
          "data": {
            "text/plain": [
              "((768, 8), (768,))"
            ]
          },
          "metadata": {
            "tags": []
          },
          "execution_count": 26
        }
      ]
    },
    {
      "cell_type": "code",
      "metadata": {
        "colab": {
          "base_uri": "https://localhost:8080/"
        },
        "id": "2D3b1gVBu7q-",
        "outputId": "eea6d958-2c4f-44c6-f1d1-3a2454776949"
      },
      "source": [
        "feature_names = X.columns\n",
        "feature_names"
      ],
      "execution_count": 17,
      "outputs": [
        {
          "output_type": "execute_result",
          "data": {
            "text/plain": [
              "Index(['Pregnancies', 'Glucose', 'BloodPressure', 'SkinThickness', 'Insulin',\n",
              "       'BMI', 'DiabetesPedigreeFunction', 'Age'],\n",
              "      dtype='object')"
            ]
          },
          "metadata": {
            "tags": []
          },
          "execution_count": 17
        }
      ]
    },
    {
      "cell_type": "markdown",
      "metadata": {
        "id": "sZFiKvPB0Q0d"
      },
      "source": [
        "> ## Let's split the data into training and testing sets"
      ]
    },
    {
      "cell_type": "code",
      "metadata": {
        "id": "Xdntq8ud0Wfc"
      },
      "source": [
        "from sklearn.model_selection import train_test_split\n",
        "X_train, X_test, y_train, y_test = train_test_split(X, y, test_size=0.2, random_state=0)"
      ],
      "execution_count": 27,
      "outputs": []
    },
    {
      "cell_type": "markdown",
      "metadata": {
        "id": "dVbdVlOMtnL1"
      },
      "source": [
        "> ## Fit the Model on the Data"
      ]
    },
    {
      "cell_type": "code",
      "metadata": {
        "colab": {
          "base_uri": "https://localhost:8080/"
        },
        "id": "jZnXycxttloI",
        "outputId": "d18811f6-6479-48bd-ad4a-1e2139c70df9"
      },
      "source": [
        "model = XGBClassifier()\n",
        "\n",
        "model.fit(X_train, y_train)"
      ],
      "execution_count": 28,
      "outputs": [
        {
          "output_type": "execute_result",
          "data": {
            "text/plain": [
              "XGBClassifier(base_score=0.5, booster='gbtree', colsample_bylevel=1,\n",
              "              colsample_bynode=1, colsample_bytree=1, gamma=0,\n",
              "              learning_rate=0.1, max_delta_step=0, max_depth=3,\n",
              "              min_child_weight=1, missing=None, n_estimators=100, n_jobs=1,\n",
              "              nthread=None, objective='binary:logistic', random_state=0,\n",
              "              reg_alpha=0, reg_lambda=1, scale_pos_weight=1, seed=None,\n",
              "              silent=None, subsample=1, verbosity=1)"
            ]
          },
          "metadata": {
            "tags": []
          },
          "execution_count": 28
        }
      ]
    },
    {
      "cell_type": "code",
      "metadata": {
        "id": "vXO5T-qa02zH"
      },
      "source": [
        "y_pred = model.predict(X_test)"
      ],
      "execution_count": 29,
      "outputs": []
    },
    {
      "cell_type": "code",
      "metadata": {
        "colab": {
          "base_uri": "https://localhost:8080/",
          "height": 281
        },
        "id": "sfuQ2aWx0-44",
        "outputId": "81e14d9c-15af-4c5a-c36f-91819346eed0"
      },
      "source": [
        "from sklearn.metrics import confusion_matrix\n",
        "import seaborn as sns\n",
        "\n",
        "sns.heatmap(confusion_matrix(y_test, y_pred), annot=True)"
      ],
      "execution_count": 30,
      "outputs": [
        {
          "output_type": "execute_result",
          "data": {
            "text/plain": [
              "<matplotlib.axes._subplots.AxesSubplot at 0x7f376563f9d0>"
            ]
          },
          "metadata": {
            "tags": []
          },
          "execution_count": 30
        },
        {
          "output_type": "display_data",
          "data": {
            "image/png": "[encoded data removed]",
            "text/plain": [
              "<Figure size 432x288 with 2 Axes>"
            ]
          },
          "metadata": {
            "tags": [],
            "needs_background": "light"
          }
        }
      ]
    },
    {
      "cell_type": "markdown",
      "metadata": {
        "id": "cH38a2K5t3ge"
      },
      "source": [
        "> ## Finding Feature Importance"
      ]
    },
    {
      "cell_type": "code",
      "metadata": {
        "colab": {
          "base_uri": "https://localhost:8080/"
        },
        "id": "FjpZfolwt2bf",
        "outputId": "192afb8c-9025-4132-e2c4-1b236d484cf5"
      },
      "source": [
        "print(model.feature_importances_)"
      ],
      "execution_count": 11,
      "outputs": [
        {
          "output_type": "stream",
          "text": [
            "[0.08265495 0.34031582 0.05761176 0.08581445 0.07284074 0.14332853\n",
            " 0.08399398 0.13343978]\n"
          ],
          "name": "stdout"
        }
      ]
    },
    {
      "cell_type": "markdown",
      "metadata": {
        "id": "rrlJ5VKauF9b"
      },
      "source": [
        "> ## Plotting the Feature Importances"
      ]
    },
    {
      "cell_type": "code",
      "metadata": {
        "colab": {
          "base_uri": "https://localhost:8080/",
          "height": 265
        },
        "id": "lLeK1tffuCzK",
        "outputId": "219415e0-0850-4d1c-ed66-7b64d70db789"
      },
      "source": [
        "pyplot.bar(range(len(model.feature_importances_)), model.feature_importances_)\n",
        "pyplot.show();"
      ],
      "execution_count": 12,
      "outputs": [
        {
          "output_type": "display_data",
          "data": {
            "image/png": "[encoded data removed]",
            "text/plain": [
              "<Figure size 432x288 with 1 Axes>"
            ]
          },
          "metadata": {
            "tags": [],
            "needs_background": "light"
          }
        }
      ]
    },
    {
      "cell_type": "markdown",
      "metadata": {
        "id": "SVJHgzZ1xBti"
      },
      "source": [
        "> ## Using the Built-in XGBoost Feature Importance Plot\n",
        "Below is the code for plotting the feature importance for the Pima Indians dataset using the built-in `plot_importance()` function."
      ]
    },
    {
      "cell_type": "code",
      "metadata": {
        "colab": {
          "base_uri": "https://localhost:8080/",
          "height": 311
        },
        "id": "VKqRoaUwsupt",
        "outputId": "902e4595-7f07-43ca-b0c8-d0b0f996b36c"
      },
      "source": [
        "from xgboost import plot_importance\n",
        "\n",
        "plot_importance(model)\n",
        "pyplot.show()"
      ],
      "execution_count": 25,
      "outputs": [
        {
          "output_type": "display_data",
          "data": {
            "text/plain": [
              "<Figure size 1440x432 with 0 Axes>"
            ]
          },
          "metadata": {
            "tags": []
          }
        },
        {
          "output_type": "display_data",
          "data": {
            "image/png": "[encoded data removed]",
            "text/plain": [
              "<Figure size 432x288 with 1 Axes>"
            ]
          },
          "metadata": {
            "tags": [],
            "needs_background": "light"
          }
        }
      ]
    },
    {
      "cell_type": "markdown",
      "metadata": {
        "id": "Ed_Tdi4LyrCW"
      },
      "source": [
        "> ## Feature Selection with XGBoost Feature Importance Scores\n",
        "Feature importance scores can be used for feature selection in scikit-learn.\n",
        "\n",
        "> This is done using the `SelectFromModel` class that takes a model and can transform a dataset into a subset with selected features.\n",
        "\n",
        "> This class can take a pre-trained model, such as one trained on the entire training dataset. It can then use a threshold to decide which features to select. This threshold is used when you call the transform() method on the SelectFromModel instance to consistently select the same features on the training dataset and the test dataset.\n",
        "\n",
        "> In the example below we first train and then evaluate an XGBoost model on the entire training dataset and test datasets respectively.\n",
        "\n",
        "> Using the feature importances calculated from the training dataset, we then wrap the model in a SelectFromModel instance. We use this to select features on the training dataset, train a model from the selected subset of features, then evaluate the model on the testset, subject to the same feature selection scheme."
      ]
    },
    {
      "cell_type": "markdown",
      "metadata": {
        "id": "m514zqKN1X7v"
      },
      "source": [
        "> ## Select Features using Threshold\n",
        "For interest, we can test multiple thresholds for selecting features by feature importance. Specifically, the feature importance of each input variable, essentially allowing us to test each subset of features by importance, starting with all features and ending with a subset with the most important feature."
      ]
    },
    {
      "cell_type": "code",
      "metadata": {
        "colab": {
          "base_uri": "https://localhost:8080/"
        },
        "id": "ReWrLNDmxNuM",
        "outputId": "b4435c1f-94cf-4fcb-ae67-6f63f5a8c9a3"
      },
      "source": [
        "from sklearn.metrics import accuracy_score\n",
        "from sklearn.feature_selection import SelectFromModel\n",
        "\n",
        "model = XGBClassifier()\n",
        "model.fit(X_train, y_train)\n",
        "y_pred = model.predict(X_test)\n",
        "predictions = [round(value) for value in y_pred]\n",
        "accuracy = accuracy_score(y_test, predictions)\n",
        "print('Accuracy: %.2f%%' % (accuracy * 100.0))\n",
        "\n",
        "# selection = SelectFromModel(model, threshold=thresh, prefit=True)"
      ],
      "execution_count": 33,
      "outputs": [
        {
          "output_type": "stream",
          "text": [
            "Accuracy: 81.82%\n"
          ],
          "name": "stdout"
        }
      ]
    },
    {
      "cell_type": "markdown",
      "metadata": {
        "id": "a9pqA_uo3VfA"
      },
      "source": [
        "> ## Fit model using each importance as a threshold"
      ]
    },
    {
      "cell_type": "code",
      "metadata": {
        "colab": {
          "base_uri": "https://localhost:8080/"
        },
        "id": "vpxOt2m23JYv",
        "outputId": "32c1889b-6e14-40eb-8055-8a35278bd154"
      },
      "source": [
        "thresholds = sorted(model.feature_importances_)\n",
        "\n",
        "for thresh in thresholds:\n",
        "\n",
        "    # Select features using threshold\n",
        "    selection = SelectFromModel(model, threshold=thresh, prefit=True)\n",
        "    select_X_train = selection.transform(X_train)\n",
        "\n",
        "    # Train model\n",
        "    selection_model = XGBClassifier()\n",
        "    selection_model.fit(select_X_train, y_train)\n",
        "\n",
        "    # Evaluate model\n",
        "    select_X_test = selection.transform(X_test)\n",
        "    y_pred = selection_model.predict(select_X_test)\n",
        "    predictions = [round(value) for value in y_pred]\n",
        "    accuracy = accuracy_score(y_test, predictions)\n",
        "    print('Thresh = %.3f, no.of features = %d, Accuracy = %.2f%%' % (thresh, select_X_train.shape[1], accuracy * 100.0))"
      ],
      "execution_count": 36,
      "outputs": [
        {
          "output_type": "stream",
          "text": [
            "Thresh = 0.061, no.of features = 8, Accuracy = 81.82%\n",
            "Thresh = 0.067, no.of features = 7, Accuracy = 82.47%\n",
            "Thresh = 0.074, no.of features = 6, Accuracy = 83.12%\n",
            "Thresh = 0.084, no.of features = 5, Accuracy = 84.42%\n",
            "Thresh = 0.086, no.of features = 4, Accuracy = 82.47%\n",
            "Thresh = 0.131, no.of features = 3, Accuracy = 80.52%\n",
            "Thresh = 0.152, no.of features = 2, Accuracy = 79.22%\n",
            "Thresh = 0.346, no.of features = 1, Accuracy = 77.27%\n"
          ],
          "name": "stdout"
        }
      ]
    },
    {
      "cell_type": "markdown",
      "metadata": {
        "id": "07H9Di036Ob2"
      },
      "source": [
        "> # Summary\n",
        "The model performed good with `5` features and a threshold value of `0.084`"
      ]
    },
    {
      "cell_type": "markdown",
      "metadata": {
        "id": "kbt2obw1ykn0"
      },
      "source": [
        "> Reference: https://machinelearningmastery.com/feature-importance-and-feature-selection-with-xgboost-in-python/"
      ]
    },
    {
      "cell_type": "code",
      "metadata": {
        "id": "ZKHsG8ayqp-5"
      },
      "source": [
        ""
      ],
      "execution_count": null,
      "outputs": []
    }
  ]
}